{
 "cells": [
  {
   "cell_type": "code",
   "execution_count": 1,
   "metadata": {},
   "outputs": [],
   "source": [
    "# import the package\n",
    "import numpy as np\n",
    "import matplotlib.pyplot as plt\n",
    "import control as ct\n",
    "from control.matlab import *"
   ]
  },
  {
   "cell_type": "markdown",
   "metadata": {},
   "source": [
    " The transfer function between the elevator and altitude of the Boeing 747 aircraft is approximated:\n",
    " \n",
    "\n",
    "$$\\frac{h(s)}{\\delta_e(s)} = \\frac{30(s-6)}{s(s^2 + 4s + 13)}$$\n"
   ]
  },
  {
   "cell_type": "code",
   "execution_count": 2,
   "metadata": {},
   "outputs": [],
   "source": [
    "wn = np.sqrt(13)         # rad/s\n",
    "zeta = 2/wn             # 2*zeta*wn = 4\n",
    "u = -1                  # u = delta_e\n",
    "s = tf('s')             # Laplace variable"
   ]
  },
  {
   "cell_type": "code",
   "execution_count": 3,
   "metadata": {},
   "outputs": [
    {
     "data": {
      "text/plain": [
       "array([-2.+3.j, -2.-3.j,  0.+0.j])"
      ]
     },
     "execution_count": 3,
     "metadata": {},
     "output_type": "execute_result"
    }
   ],
   "source": [
    "# TF Boeing 747 aircraft\n",
    "# Open Loop\n",
    "G = u*30*(s - 6) / (s**3 + 4*s**2 + 13*s)\n",
    "\n",
    "# Impulse response\n",
    "t1, y_open = impulse(G)\n",
    "\n",
    "tr = 1.8 / wn\n",
    "ts = 4.6 /( zeta*wn )\n",
    "Mp = np.exp(-(zeta / np.sqrt(1 - zeta**2))*np.pi)\n",
    "\n",
    "pole(G)"
   ]
  },
  {
   "cell_type": "code",
   "execution_count": 6,
   "metadata": {},
   "outputs": [
    {
     "data": {
      "text/plain": [
       "[<matplotlib.lines.Line2D at 0x7f2b53704490>]"
      ]
     },
     "execution_count": 6,
     "metadata": {},
     "output_type": "execute_result"
    },
    {
     "data": {
      "image/png": "[encoded data removed]",
      "text/plain": [
       "<Figure size 432x288 with 1 Axes>"
      ]
     },
     "metadata": {
      "needs_background": "light"
     },
     "output_type": "display_data"
    }
   ],
   "source": [
    "plt.plot(y_open)"
   ]
  },
  {
   "cell_type": "code",
   "execution_count": 4,
   "metadata": {},
   "outputs": [
    {
     "name": "stdout",
     "output_type": "stream",
     "text": [
      "_____Eigenvalue______ Damping___ Frequency_\n",
      "        -2        +3j     0.5547      3.606\n",
      "        -2        -3j     0.5547      3.606\n",
      "         0                     1         -0\n"
     ]
    },
    {
     "name": "stderr",
     "output_type": "stream",
     "text": [
      "/home/joaomh/anaconda3/lib/python3.8/site-packages/control/lti.py:109: RuntimeWarning: invalid value encountered in true_divide\n",
      "  Z = -real(splane_poles)/wn\n"
     ]
    },
    {
     "data": {
      "text/plain": [
       "(array([3.60555128, 3.60555128, 0.        ]),\n",
       " array([0.5547002, 0.5547002,       nan]),\n",
       " array([-2.+3.j, -2.-3.j,  0.+0.j]))"
      ]
     },
     "execution_count": 4,
     "metadata": {},
     "output_type": "execute_result"
    }
   ],
   "source": [
    "damp(G)"
   ]
  },
  {
   "cell_type": "code",
   "execution_count": null,
   "metadata": {},
   "outputs": [],
   "source": []
  },
  {
   "cell_type": "code",
   "execution_count": 5,
   "metadata": {},
   "outputs": [
    {
     "data": {
      "text/plain": [
       "{'RiseTime': 2306936793322379.5,\n",
       " 'SettlingTime': 4106674717190903.0,\n",
       " 'SettlingMin': 1.3063033412822524e+16,\n",
       " 'SettlingMax': 1.4498585618836332e+16,\n",
       " 'Overshoot': 0.0,\n",
       " 'Undershoot': 0.0,\n",
       " 'Peak': 1.4498585618836332e+16,\n",
       " 'PeakTime': 1.634489259949686e+16,\n",
       " 'SteadyStateValue': 1.4498585618836332e+16}"
      ]
     },
     "execution_count": 5,
     "metadata": {},
     "output_type": "execute_result"
    }
   ],
   "source": [
    "stepinfo(G)"
   ]
  },
  {
   "cell_type": "code",
   "execution_count": 11,
   "metadata": {},
   "outputs": [
    {
     "data": {
      "text/plain": [
       "array([-1.22452476+2.41084727j, -1.22452476-2.41084727j,\n",
       "       -1.55095047+0.j        ])"
      ]
     },
     "execution_count": 11,
     "metadata": {},
     "output_type": "execute_result"
    }
   ],
   "source": [
    "# Closed Loop\n",
    "K = 0.063\n",
    "G2 = feedback(K*G,1)\n",
    "t2, y_closed = impulse(G2)\n",
    "pole(G2)"
   ]
  },
  {
   "cell_type": "code",
   "execution_count": 16,
   "metadata": {},
   "outputs": [
    {
     "name": "stdout",
     "output_type": "stream",
     "text": [
      "_____Eigenvalue______ Damping___ Frequency_\n",
      "    -1.225    +2.411j     0.4529      2.704\n",
      "    -1.225    -2.411j     0.4529      2.704\n",
      "    -1.551                     1      1.551\n"
     ]
    },
    {
     "data": {
      "text/plain": [
       "(array([2.70400545, 2.70400545, 1.55095047]),\n",
       " array([0.45285588, 0.45285588, 1.        ]),\n",
       " array([-1.22452476+2.41084727j, -1.22452476-2.41084727j,\n",
       "        -1.55095047+0.j        ]))"
      ]
     },
     "execution_count": 16,
     "metadata": {},
     "output_type": "execute_result"
    }
   ],
   "source": [
    "damp(G2)"
   ]
  },
  {
   "cell_type": "code",
   "execution_count": 17,
   "metadata": {},
   "outputs": [
    {
     "data": {
      "text/plain": [
       "{'RiseTime': 1.0071117130237006,\n",
       " 'SettlingTime': 3.4390576109502504,\n",
       " 'SettlingMin': 0.9002192463022002,\n",
       " 'SettlingMax': 1.010231225475979,\n",
       " 'Overshoot': 1.0895832506534564,\n",
       " 'Undershoot': -0.018521883628214903,\n",
       " 'Peak': 1.010231225475979,\n",
       " 'PeakTime': 2.2373902260924257,\n",
       " 'SteadyStateValue': 0.9993425563651721}"
      ]
     },
     "execution_count": 17,
     "metadata": {},
     "output_type": "execute_result"
    }
   ],
   "source": [
    "# Time Domain Specification\n",
    "stepinfo(G2)"
   ]
  },
  {
   "cell_type": "code",
   "execution_count": 12,
   "metadata": {},
   "outputs": [
    {
     "data": {
      "text/plain": [
       "100"
      ]
     },
     "execution_count": 12,
     "metadata": {},
     "output_type": "execute_result"
    },
    {
     "data": {
      "image/png": "[encoded data removed]",
      "text/plain": [
       "<Figure size 432x288 with 1 Axes>"
      ]
     },
     "metadata": {
      "needs_background": "light"
     },
     "output_type": "display_data"
    }
   ],
   "source": [
    "#plt.plot(y_open, t1)\n",
    "plt.plot(y_closed, t2)\n",
    "plt.legend(['Open Loop','Closed Loop'])"
   ]
  },
  {
   "cell_type": "code",
   "execution_count": 44,
   "metadata": {},
   "outputs": [],
   "source": [
    "# Zeros influence \n",
    "# Change the poles = change the natural frequency and damping\n",
    "# But if we changed the zeros?\n",
    "H1 =  30*(s + 6) / (s*(s**2 + 4*s + 13))  \n",
    "H2 =  30*(s + 2) / (s*(s**2 + 4*s + 13))    \n",
    "H3 = -30*(s - 6) / (s*(s**2 + 4*s + 13))  "
   ]
  },
  {
   "cell_type": "code",
   "execution_count": 75,
   "metadata": {},
   "outputs": [
    {
     "data": {
      "text/latex": [
       "$$\\frac{-30 s + 180}{s^3 + 4 s^2 + 13 s}$$"
      ],
      "text/plain": [
       "\n",
       "    -30 s + 180\n",
       "------------------\n",
       "s^3 + 4 s^2 + 13 s"
      ]
     },
     "execution_count": 75,
     "metadata": {},
     "output_type": "execute_result"
    }
   ],
   "source": [
    "H3"
   ]
  },
  {
   "cell_type": "code",
   "execution_count": 69,
   "metadata": {},
   "outputs": [
    {
     "data": {
      "text/plain": [
       "<matplotlib.legend.Legend at 0x7f6b115c2100>"
      ]
     },
     "execution_count": 69,
     "metadata": {},
     "output_type": "execute_result"
    },
    {
     "data": {
      "image/png": "[encoded data removed]",
      "text/plain": [
       "<Figure size 432x288 with 1 Axes>"
      ]
     },
     "metadata": {
      "needs_background": "light"
     },
     "output_type": "display_data"
    }
   ],
   "source": [
    "# Plot\n",
    "y_H1, t1 = impulse(H1,t)\n",
    "plt.plot(t1,y_H1)\n",
    "t2, y_H2 = impulse(H2)\n",
    "plt.plot(t2,y_H2)\n",
    "t3, y_H3 = impulse(H3)\n",
    "plt.plot(t3,y_H3)\n",
    "plt.legend(['Zero = -6','Zero = -2','Zero = 6'])\n"
   ]
  }
 ],
 "metadata": {
  "kernelspec": {
   "display_name": "Python 3",
   "language": "python",
   "name": "python3"
  },
  "language_info": {
   "codemirror_mode": {
    "name": "ipython",
    "version": 3
   },
   "file_extension": ".py",
   "mimetype": "text/x-python",
   "name": "python",
   "nbconvert_exporter": "python",
   "pygments_lexer": "ipython3",
   "version": "3.8.3"
  }
 },
 "nbformat": 4,
 "nbformat_minor": 4
}
